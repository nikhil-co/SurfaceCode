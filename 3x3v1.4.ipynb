{
 "cells": [
  {
   "cell_type": "markdown",
   "id": "1f0eca23-4808-410d-8c67-478ec6be3fb9",
   "metadata": {},
   "source": [
    "# Relationship of the decoherence with random Z rotations"
   ]
  },
  {
   "cell_type": "code",
   "execution_count": 1,
   "id": "c4525e1f-1f4c-4dd8-b0ee-cd384f46bc7c",
   "metadata": {
    "tags": []
   },
   "outputs": [],
   "source": [
    "import numpy as np\n",
    "from qutip import *\n",
    "import pymatching as pym\n",
    "\n",
    "import matplotlib.pyplot as plt\n",
    "\n",
    "from timeit import timeit\n",
    "import tqdm as tq\n",
    "\n",
    "from scipy.interpolate import InterpolatedUnivariateSpline"
   ]
  },
  {
   "cell_type": "code",
   "execution_count": 2,
   "id": "c3532980-8c26-44ba-a5e4-37eef53c7611",
   "metadata": {},
   "outputs": [],
   "source": [
    "rng = np.random.default_rng(123) # Construct a new Generator with the default BitGenerator (PCG64). The seed here is '123'"
   ]
  },
  {
   "cell_type": "code",
   "execution_count": 3,
   "id": "cb4dd6a4-0788-4046-a82e-314667f99384",
   "metadata": {},
   "outputs": [],
   "source": [
    "# Function for initializtion of the state\n",
    "def init_qp():\n",
    "    psi1 = tensor(basis(2,0), basis(2,0), basis(2,0), basis(2,0), basis(2,0), basis(2,0), basis(2,0), basis(2,0), basis(2,0))\n",
    "    return psi1\n",
    "\n",
    "# Defining the initial state\n",
    "psi_init = init_qp()"
   ]
  },
  {
   "cell_type": "code",
   "execution_count": 4,
   "id": "a3fe4918-3a3e-4ef6-981a-386326144911",
   "metadata": {},
   "outputs": [],
   "source": [
    "'''\n",
    "Defining Pauli matrices for a qubits in the surface code \n",
    "- xi = X gate for the ith qubit\n",
    "- zi = Z gate for the ith qubit \n",
    "- We have 9 qubits so the range of i is - i = 0,1,...8\n",
    "'''\n",
    "\n",
    "I_9 = tensor(qeye(2),qeye(2),qeye(2),qeye(2),qeye(2),qeye(2),qeye(2),qeye(2),qeye(2)) # Identity for the 9 qubit system\n",
    "\n",
    "x0 = tensor(sigmax(),qeye(2),qeye(2),qeye(2),qeye(2),qeye(2),qeye(2),qeye(2),qeye(2))\n",
    "x1 = tensor(qeye(2),sigmax(),qeye(2),qeye(2),qeye(2),qeye(2),qeye(2),qeye(2),qeye(2))\n",
    "x2 = tensor(qeye(2),qeye(2),sigmax(),qeye(2),qeye(2),qeye(2),qeye(2),qeye(2),qeye(2))\n",
    "x3 = tensor(qeye(2),qeye(2),qeye(2),sigmax(),qeye(2),qeye(2),qeye(2),qeye(2),qeye(2))\n",
    "x4 = tensor(qeye(2),qeye(2),qeye(2),qeye(2),sigmax(),qeye(2),qeye(2),qeye(2),qeye(2))\n",
    "x5 = tensor(qeye(2),qeye(2),qeye(2),qeye(2),qeye(2),sigmax(),qeye(2),qeye(2),qeye(2))\n",
    "x6 = tensor(qeye(2),qeye(2),qeye(2),qeye(2),qeye(2),qeye(2),sigmax(),qeye(2),qeye(2))\n",
    "x7 = tensor(qeye(2),qeye(2),qeye(2),qeye(2),qeye(2),qeye(2),qeye(2),sigmax(),qeye(2))\n",
    "x8 = tensor(qeye(2),qeye(2),qeye(2),qeye(2),qeye(2),qeye(2),qeye(2),qeye(2),sigmax())\n",
    "\n",
    "z0 = tensor(sigmaz(),qeye(2),qeye(2),qeye(2),qeye(2),qeye(2),qeye(2),qeye(2),qeye(2))\n",
    "z1 = tensor(qeye(2),sigmaz(),qeye(2),qeye(2),qeye(2),qeye(2),qeye(2),qeye(2),qeye(2))\n",
    "z2 = tensor(qeye(2),qeye(2),sigmaz(),qeye(2),qeye(2),qeye(2),qeye(2),qeye(2),qeye(2))\n",
    "z3 = tensor(qeye(2),qeye(2),qeye(2),sigmaz(),qeye(2),qeye(2),qeye(2),qeye(2),qeye(2))\n",
    "z4 = tensor(qeye(2),qeye(2),qeye(2),qeye(2),sigmaz(),qeye(2),qeye(2),qeye(2),qeye(2))\n",
    "z5 = tensor(qeye(2),qeye(2),qeye(2),qeye(2),qeye(2),sigmaz(),qeye(2),qeye(2),qeye(2))\n",
    "z6 = tensor(qeye(2),qeye(2),qeye(2),qeye(2),qeye(2),qeye(2),sigmaz(),qeye(2),qeye(2))\n",
    "z7 = tensor(qeye(2),qeye(2),qeye(2),qeye(2),qeye(2),qeye(2),qeye(2),sigmaz(),qeye(2))\n",
    "z8 = tensor(qeye(2),qeye(2),qeye(2),qeye(2),qeye(2),qeye(2),qeye(2),qeye(2),sigmaz())\n",
    "\n",
    "y0 = tensor(sigmay(),qeye(2),qeye(2),qeye(2),qeye(2),qeye(2),qeye(2),qeye(2),qeye(2))\n",
    "y1 = tensor(qeye(2),sigmay(),qeye(2),qeye(2),qeye(2),qeye(2),qeye(2),qeye(2),qeye(2))\n",
    "y2 = tensor(qeye(2),qeye(2),sigmay(),qeye(2),qeye(2),qeye(2),qeye(2),qeye(2),qeye(2))\n",
    "y3 = tensor(qeye(2),qeye(2),qeye(2),sigmay(),qeye(2),qeye(2),qeye(2),qeye(2),qeye(2))\n",
    "y4 = tensor(qeye(2),qeye(2),qeye(2),qeye(2),sigmay(),qeye(2),qeye(2),qeye(2),qeye(2))\n",
    "y5 = tensor(qeye(2),qeye(2),qeye(2),qeye(2),qeye(2),sigmay(),qeye(2),qeye(2),qeye(2))\n",
    "y6 = tensor(qeye(2),qeye(2),qeye(2),qeye(2),qeye(2),qeye(2),sigmay(),qeye(2),qeye(2))\n",
    "y7 = tensor(qeye(2),qeye(2),qeye(2),qeye(2),qeye(2),qeye(2),qeye(2),sigmay(),qeye(2))\n",
    "y8 = tensor(qeye(2),qeye(2),qeye(2),qeye(2),qeye(2),qeye(2),qeye(2),qeye(2),sigmay())\n",
    "\n",
    "# Defining Hadamard gate for all the nine qubits ( acting simultaneously)\n",
    "\n",
    "h = (sigmax() + sigmaz())/(2**0.5) # Hadamard for a single qubit\n",
    "\n",
    "h1 = tensor(h,qeye(2),qeye(2),qeye(2),qeye(2),qeye(2),qeye(2),qeye(2),qeye(2)) # Hadamard for a single qubit in the surface code\n",
    "\n",
    "H  = tensor(h,h,h,h,h,h,h,h,h) # Hadamard for all qbuits(simultaneously) in the surface code\n",
    "\n",
    "Z = tensor(sigmaz(),sigmaz(),sigmaz(),sigmaz(),sigmaz(),sigmaz(),sigmaz(),sigmaz(),sigmaz())\n",
    "X = tensor(sigmax(),sigmax(),sigmax(),sigmax(),sigmax(),sigmax(),sigmax(),sigmax(),sigmax())\n",
    "\n",
    "Z_set = [z0,z1,z2,z3,z4,z5,z6,z7,z8]\n",
    "X_set = [x0,x1,x2,x3,x4,x5,x6,x7,x8]\n",
    "Y_set = [y0,y1,y2,y3,y4,y5,y6,y7,y8]\n",
    "\n",
    "# Defning the Stabilizers as si = stabilizer measured by the ith measurement bit (i=9,10,..16)\n",
    "\n",
    "s9  = x1 * x2\n",
    "s10 = z0 * z3\n",
    "s11 = x0 * x1 * x3 * x4\n",
    "s12 = z1 * z2 * z4 * z5\n",
    "s13 = z3 * z4 * z6 * z7\n",
    "s14 = x4 * x5 * x7 * x8\n",
    "s15 = z5 * z8\n",
    "s16 = x6 * x7\n",
    "\n",
    "stab_set = [s9,s10,s11,s12,s13,s14,s15,s16]\n",
    "\n",
    "xstab_set = [0,2,5,7]\n",
    "zstab_set = [1,3,4,6]\n",
    "\n",
    "# Defining the sub = projectors -  pi = projector for each stabilizer and i is the measurement qubit\n",
    "# The projector P = p9 x p10 x p11 ... x p16\n",
    "\n",
    "p9  = ( I_9 + s9  )/2\n",
    "p10 = ( I_9 + s10 )/2\n",
    "p11 = ( I_9 + s11 )/2\n",
    "p12 = ( I_9 + s12 )/2\n",
    "p13 = ( I_9 + s13 )/2\n",
    "p14 = ( I_9 + s14 )/2\n",
    "p15 = ( I_9 + s15 )/2\n",
    "p16 = ( I_9 + s16 )/2\n",
    "\n",
    "P  = 8 * p9 * p10 * p11 * p12 * p13 * p14 * p15 * p16\n",
    "\n",
    "Px = 4 * p9 * p11 * p14 * p16\n",
    "Pz = 4 * p10 * p12 * p13 * p15\n",
    "\n",
    "# Defining Logical Operators\n",
    "\n",
    "XL = x2 * x4 * x6\n",
    "ZL = z0 * z4 * z8\n",
    "HL = np.sqrt(.5)* (ZL + XL)"
   ]
  },
  {
   "cell_type": "code",
   "execution_count": 5,
   "id": "ea9b76cc-af1b-47f4-a52d-95ca592ea300",
   "metadata": {},
   "outputs": [],
   "source": [
    "# Quiescent State\n",
    "psi_seed = Px * psi_init\n",
    "\n",
    "psi_plus = HL * psi_seed"
   ]
  },
  {
   "cell_type": "markdown",
   "id": "79041f82-4dad-4387-9552-97aed8795cf5",
   "metadata": {},
   "source": [
    "## Defining Projective Measurement"
   ]
  },
  {
   "cell_type": "code",
   "execution_count": 6,
   "id": "54c30b44-c043-487c-a087-c07d6ab55236",
   "metadata": {},
   "outputs": [],
   "source": [
    "def proj_measurement(Gate,psi):\n",
    "    prob = expect(0.5*(I_9 + Gate),psi)\n",
    "    n = rng.random()\n",
    "    if prob > n:\n",
    "        eigen = 1\n",
    "        psi = (I_9 + Gate) * psi\n",
    "        return eigen , psi.unit()\n",
    "    else:\n",
    "        eigen = -1\n",
    "        psi = (I_9 - Gate) * psi\n",
    "        if psi.norm() < 1e-10:\n",
    "            return eigen , psi\n",
    "        return eigen,psi.unit()"
   ]
  },
  {
   "cell_type": "markdown",
   "id": "c59b49f7-b2c2-4c2d-9aed-995076f0e8d4",
   "metadata": {},
   "source": [
    "## Implementing Various Noise Models"
   ]
  },
  {
   "cell_type": "code",
   "execution_count": 7,
   "id": "d01e1bb1-3b97-43be-9b30-972f5b88c39f",
   "metadata": {},
   "outputs": [],
   "source": [
    "def noise_model(state,pr):\n",
    "    p_Z = pr\n",
    "    p_I = 1 - pr\n",
    "    events = [0,1] # 0 - for no error; 1 - phase-flip error \n",
    "    for qubit in range(9):\n",
    "        event = rng.choice(events,p=[p_I,p_Z],size=1)\n",
    "        if 1 in event:\n",
    "            f = 'z' + str(qubit)\n",
    "            state = eval(f) * state\n",
    "    return state"
   ]
  },
  {
   "cell_type": "markdown",
   "id": "a3f51f5b-4869-42fd-982f-7d232717840a",
   "metadata": {},
   "source": [
    "## Implementing Coherent errors"
   ]
  },
  {
   "cell_type": "code",
   "execution_count": 8,
   "id": "c773ab51-c9ee-4d19-8a5f-fa9652b829e8",
   "metadata": {},
   "outputs": [],
   "source": [
    "def coherent_noise(psi,theta):\n",
    "    z = Qobj([[np.exp(1j*theta),0],[0,np.exp(-1j*theta)]])  \n",
    "    exp_z0 = tensor(z,qeye(2),qeye(2),qeye(2),qeye(2),qeye(2),qeye(2),qeye(2),qeye(2))\n",
    "    exp_z1 = tensor(qeye(2),z,qeye(2),qeye(2),qeye(2),qeye(2),qeye(2),qeye(2),qeye(2))\n",
    "    exp_z2 = tensor(qeye(2),qeye(2),z,qeye(2),qeye(2),qeye(2),qeye(2),qeye(2),qeye(2))\n",
    "    exp_z3 = tensor(qeye(2),qeye(2),qeye(2),z,qeye(2),qeye(2),qeye(2),qeye(2),qeye(2))\n",
    "    exp_z4 = tensor(qeye(2),qeye(2),qeye(2),qeye(2),z,qeye(2),qeye(2),qeye(2),qeye(2))\n",
    "    exp_z5 = tensor(qeye(2),qeye(2),qeye(2),qeye(2),qeye(2),z,qeye(2),qeye(2),qeye(2))\n",
    "    exp_z6 = tensor(qeye(2),qeye(2),qeye(2),qeye(2),qeye(2),qeye(2),z,qeye(2),qeye(2))\n",
    "    exp_z7 = tensor(qeye(2),qeye(2),qeye(2),qeye(2),qeye(2),qeye(2),qeye(2),z,qeye(2))\n",
    "    exp_z8 = tensor(qeye(2),qeye(2),qeye(2),qeye(2),qeye(2),qeye(2),qeye(2),qeye(2),z)\n",
    "    Z = exp_z0 * exp_z1 * exp_z2 * exp_z3 * exp_z4 * exp_z5 * exp_z6 * exp_z7 * exp_z8\n",
    "    psi = Z * psi\n",
    "    return psi"
   ]
  },
  {
   "cell_type": "markdown",
   "id": "ba67f275-a667-4927-a4c0-91250ca09b05",
   "metadata": {},
   "source": [
    "## Implementing Phase Damping Channel"
   ]
  },
  {
   "cell_type": "code",
   "execution_count": 9,
   "id": "1a848e12-05c1-4ba0-86bc-2bfc0bb95bff",
   "metadata": {},
   "outputs": [],
   "source": [
    "def phase_damping(psi,p_PD):\n",
    "    p_Z = (1 - np.sqrt(1 - p_PD)) * 0.5\n",
    "    p_I = 1 - p_Z \n",
    "    for qubit in range(9):\n",
    "        n = rng.random()\n",
    "        if n < p_Z:\n",
    "            psi = Z_set[qubit] * psi\n",
    "    return psi.unit()"
   ]
  },
  {
   "cell_type": "markdown",
   "id": "3cb716be-f69c-4aac-9204-099b5e35bbd8",
   "metadata": {},
   "source": [
    "## Random Rotations on the z-axis"
   ]
  },
  {
   "cell_type": "code",
   "execution_count": 10,
   "id": "3a0155b5-bbb0-4ebc-80e8-20b8eafe0c00",
   "metadata": {},
   "outputs": [],
   "source": [
    "def rand_zrot(psi,sigma):\n",
    "    random_seed = int(np.random.random() * 1000)\n",
    "    rng = np.random.default_rng(random_seed)\n",
    "    theta_set = rng.normal(0,sigma,9)\n",
    "    Z = 1\n",
    "    for i in range(9):\n",
    "        exp_op = (-0.5j * theta_set[i] * Z_set[i]).expm()\n",
    "        Z = Z * exp_op\n",
    "    psi = Z * psi\n",
    "    return psi"
   ]
  },
  {
   "cell_type": "markdown",
   "id": "6e94977f-1bbe-46df-b889-e92c55972b73",
   "metadata": {},
   "source": [
    "## Defining Syndrome Measurement"
   ]
  },
  {
   "cell_type": "code",
   "execution_count": 11,
   "id": "2df730c2-c223-4b3e-b61f-272cca5ea63e",
   "metadata": {},
   "outputs": [],
   "source": [
    "def syndrome(psi): # Returns the Syndrome - Expectation values of all the stabilizers\n",
    "    syn = []\n",
    "    for stab in stab_set:\n",
    "        syn_val,psi = proj_measurement(stab,psi) \n",
    "        syn.append(syn_val)\n",
    "    return syn,psi\n",
    "def prob_coherent(stabs,psi,syn):\n",
    "    P = 1\n",
    "    for stab,sf in zip(stabs,syn):\n",
    "        P = P * (0.5 * (I_9 + sf * stab))\n",
    "    psi = P * psi\n",
    "    prob = (psi.norm())**2\n",
    "    if prob == 0:\n",
    "        return psi,prob\n",
    "    else:\n",
    "        return psi.unit(),prob\n",
    "    return None"
   ]
  },
  {
   "cell_type": "markdown",
   "id": "eb93804d-5da0-4bfc-9f9b-b3049529fb9e",
   "metadata": {},
   "source": [
    "## Defining Check Matrix for decoding"
   ]
  },
  {
   "cell_type": "code",
   "execution_count": 12,
   "id": "343742f1-4ea5-40b3-bb31-129c9631a620",
   "metadata": {
    "slideshow": {
     "slide_type": "notes"
    },
    "tags": []
   },
   "outputs": [],
   "source": [
    "Hz = np.array([\n",
    "    [1,0,1,0,0,0,0,0,0],\n",
    "    [0,1,1,0,1,1,0,0,0],\n",
    "    [0,0,0,1,1,0,1,1,0],\n",
    "    [0,0,0,0,0,1,0,0,1]])\n",
    "\n",
    "Hx = np.array([\n",
    "    [0,1,1,0,0,0,0,0,0],\n",
    "    [1,1,0,1,1,0,0,0,0],\n",
    "    [0,0,0,0,1,1,0,1,1],\n",
    "    [0,0,0,0,0,0,1,1,0]])\n",
    "\n",
    "mz = pym.Matching(Hz);\n",
    "mx = pym.Matching(Hx);"
   ]
  },
  {
   "cell_type": "markdown",
   "id": "d02aae02-aede-486c-921e-092f4dadcd00",
   "metadata": {},
   "source": [
    "## Simulation for phase-flip errors with probability - p"
   ]
  },
  {
   "cell_type": "code",
   "execution_count": 13,
   "id": "9505e779-6d9d-4386-aca6-68b95ec009f4",
   "metadata": {},
   "outputs": [],
   "source": [
    "# Defining Simulation function - runs the noise model n times with prob of error p.\n",
    "def simulation(n,p,psi):\n",
    "    decoded_states = 0\n",
    "    for i in range(n):\n",
    "        psi = psi.unit()\n",
    "        psi = noise_model(psi,p)\n",
    "        synd , psi = syndrome(psi)      \n",
    "        syn = np.zeros(4)\n",
    "\n",
    "        l = 0\n",
    "        for j in xstab_set: \n",
    "            syn[l] = synd[j]\n",
    "            l = l+1\n",
    "        corc = mx.decode((syn-1)/-2)\n",
    "        for k in range(9):\n",
    "            if corc[k]==1:\n",
    "                psi = Z_set[k] * psi\n",
    "        eigen,psi = proj_measurement(XL,psi)\n",
    "        if eigen==1:\n",
    "            decoded_states = decoded_states + 1\n",
    "        else:\n",
    "            psi = ZL * psi\n",
    "    return decoded_states"
   ]
  },
  {
   "cell_type": "markdown",
   "id": "a7785bf6-5626-4e71-909d-95580f6e30c8",
   "metadata": {},
   "source": [
    "## Simulation for Coherent Noise"
   ]
  },
  {
   "cell_type": "code",
   "execution_count": 14,
   "id": "51961d24-1aa6-40b1-89bc-3d9291b94fee",
   "metadata": {},
   "outputs": [],
   "source": [
    "pos_syn = [[1,1,1,1],[-1,1,1,1],[1,-1,1,1],[1,1,-1,1],[1,1,1,-1],\n",
    "        [-1,-1,1,1],[-1,1,-1,1],[-1,1,1,-1],[1,-1,-1,1],[1,-1,1,-1],[1,1,-1,-1],\n",
    "        [-1,-1,-1,1],[-1,-1,1,-1],[-1,1,-1,-1],[1,-1,-1,-1],\n",
    "        [-1,-1,-1,-1]]\n",
    "\n",
    "def simulation_coherent(psi,theta):\n",
    "    rot_psi = coherent_noise(psi,theta)\n",
    "    fid = 0\n",
    "    p_s = np.zeros(16)\n",
    "    norm = np.zeros(16)\n",
    "    for i in range(16):\n",
    "        a0=i//8%2\n",
    "        a1=i//4%2\n",
    "        a2=i//2%2\n",
    "        a3=i%2      \n",
    "        syn_x = np.array([a0,a1,a2,a3])*(-2) + 1\n",
    "        psi,p_s[i]= prob_coherent([s9,s11,s14,s16],rot_psi,syn_x)\n",
    "        corc = mx.decode(np.array([a0,a1,a2,a3]))\n",
    "        for k in range(9):\n",
    "            if corc[k]==1:\n",
    "                psi = Z_set[k] * psi                         \n",
    "        normi = (psi.dag() * psi_plus).full()[0][0]\n",
    "        norm[i] = np.abs(normi)**2\n",
    "        fid = fid + p_s[i] * norm[i]\n",
    "    return 1-fid"
   ]
  },
  {
   "cell_type": "markdown",
   "id": "84fb07e5-b7b5-403e-a2f7-4a3ee93d76a8",
   "metadata": {},
   "source": [
    "## Simulation for Phase Damping Channel"
   ]
  },
  {
   "cell_type": "code",
   "execution_count": 15,
   "id": "63f97a9c-86ad-4582-96f4-6fbb0dc3be1a",
   "metadata": {},
   "outputs": [],
   "source": [
    "def simulation_pdamp(n,p_PD,psi):\n",
    "    decoded_states = 0\n",
    "    for i in range(n):\n",
    "        psi = phase_damping(psi,p_PD)\n",
    "        synd , psi = syndrome(psi)     \n",
    "\n",
    "        syn_z = np.zeros(4)\n",
    "        \n",
    "        l = 0\n",
    "        for j in xstab_set: \n",
    "            syn_z[l] = synd[j]\n",
    "            l = l+1\n",
    "        corc_z = mx.decode((syn_z-1)/-2)\n",
    "        for k in range(9):\n",
    "            if corc_z[k]==1:\n",
    "                psi = Z_set[k] * psi\n",
    "        eigen,psi = proj_measurement(XL,psi)\n",
    "        if eigen==1:\n",
    "            decoded_states = decoded_states + 1\n",
    "        else:\n",
    "            psi = ZL * psi\n",
    "    return decoded_states"
   ]
  },
  {
   "cell_type": "markdown",
   "id": "7e58dbad-bb1f-4766-8eb2-dad9501b7681",
   "metadata": {},
   "source": [
    "## Simulation for random Z rotations"
   ]
  },
  {
   "cell_type": "code",
   "execution_count": 16,
   "id": "2daaf0d3-fcef-455f-8089-30e15616a6b7",
   "metadata": {},
   "outputs": [],
   "source": [
    "# Defining Simulation function - runs the noise model n times with prob of error p.\n",
    "def simulation_rand_zrot(n,sigma,psi):\n",
    "    decoded_states = 0\n",
    "    for i in range(n):\n",
    "        psi = rand_zrot(psi,sigma)\n",
    "        synd , psi = syndrome(psi)      \n",
    "        syn = np.zeros(4)\n",
    "\n",
    "        l = 0\n",
    "        for j in xstab_set: \n",
    "            syn[l] = synd[j]\n",
    "            l = l+1\n",
    "        corc = mx.decode((syn-1)/-2)\n",
    "        for k in range(9):\n",
    "            if corc[k]==1:\n",
    "                psi = Z_set[k] * psi\n",
    "        eigen,psi = proj_measurement(XL,psi)\n",
    "        if eigen==1:\n",
    "            decoded_states = decoded_states + 1\n",
    "        else:\n",
    "            psi = ZL * psi\n",
    "    return decoded_states"
   ]
  },
  {
   "cell_type": "markdown",
   "id": "6a5fa1f4-294a-4274-ae48-9401095fe2f2",
   "metadata": {},
   "source": [
    "# Plotting graph for uncorellated noise model"
   ]
  },
  {
   "cell_type": "code",
   "execution_count": 17,
   "id": "b8242e94-af4d-4d43-9d00-4da9e4254b76",
   "metadata": {},
   "outputs": [],
   "source": [
    "def plot_err(N,prob_n,psi_seed):  \n",
    "    prob_range = np.linspace(0,1,num=prob_n)\n",
    "    n_deco = np.zeros(prob_n)\n",
    "    j = 0\n",
    "    for i in tq.tqdm(range(len(prob_range))):        \n",
    "        n_deco[j] = simulation(N,prob_range[i],psi_seed)\n",
    "        j = j + 1\n",
    "    \n",
    "    err_rate = 1-n_deco/N\n",
    "    \n",
    "    plt.figure(dpi=110)\n",
    "    plt.subplot(111)\n",
    "\n",
    "    plt.title('Probability of Error (' +str(prob_n) +'prob res ) ' + 'vs Logical Error rate ('+str(N)+ ' samples)')\n",
    "    \n",
    "    plt.grid()\n",
    "\n",
    "    plt.xlabel('Probability of Error - $p$')\n",
    "    plt.ylabel('Logical Error rate - $ P_L $')\n",
    "    \n",
    "    plt.plot(prob_range,err_rate,marker=\"\",c='k',ms='2',label='Error line',lw=.8)\n",
    "    plt.plot(prob_range,prob_range,ls='--',c='b',label='Straight line ($P_L=p$)',alpha=.5)\n",
    "    \n",
    "    plt.legend(fontsize='x-small')\n",
    "    #plt.savefig(fname='Error plot '+str(N)+'_'+str(prob_n))\n",
    "    return None"
   ]
  },
  {
   "cell_type": "markdown",
   "id": "824539c4-6ecf-481c-b706-5599a3a94682",
   "metadata": {},
   "source": [
    "# Plotting for coherent errors"
   ]
  },
  {
   "cell_type": "code",
   "execution_count": 18,
   "id": "f089066e-c0f3-4831-987a-142623195082",
   "metadata": {},
   "outputs": [],
   "source": [
    "def plot_err_cohe(N):\n",
    "    res = 50\n",
    "    prob_range = np.linspace(0,1,num=res)\n",
    "    n_deco = np.zeros(res)\n",
    "    j = 0\n",
    "    for i in tq.tqdm(range(len(prob_range))):        \n",
    "        n_deco[j] = simulation(N,prob_range[i],psi_seed)\n",
    "        j = j + 1\n",
    "    \n",
    "    err_rate = 1-n_deco/N\n",
    "    P_l = np.zeros(50)\n",
    "    res = np.linspace(0,np.pi/2,50)\n",
    "    for i in range(50):\n",
    "        P_l[i] = simulation_coherent(psi_plus,res[i])\n",
    "\n",
    "    plt.figure(dpi=120)\n",
    "    plt.title('Probability of Error ' + 'vs Logical Error rate')\n",
    "    plt.grid() \n",
    "    \n",
    "    plt.yticks(np.linspace(0,1,11))\n",
    "    plt.xticks(np.linspace(0,1,11)) \n",
    "    \n",
    "    plt.xlabel('Probability of Error - $p$')\n",
    "    plt.ylabel('Logical Error rate - $ P_L $')\n",
    "    \n",
    "    plt.plot(np.sin(res)**2,P_l)\n",
    "    plt.plot(prob_range,err_rate,marker=\"\",c='k',ms='2',label='Error line',lw=.8)\n",
    "    plt.plot(prob_range,prob_range,ls='--',c='b',label='Straight line ($P_L=p$)',alpha=.5)\n",
    "    \n",
    "    plt.legend(fontsize='x-small')\n",
    "    plt.show()"
   ]
  },
  {
   "cell_type": "markdown",
   "id": "d4c3d2fc-d32b-49f7-a19f-235bb0a5b551",
   "metadata": {},
   "source": [
    "# Plotting for the phase damping error"
   ]
  },
  {
   "cell_type": "code",
   "execution_count": 19,
   "id": "c587f068-0be0-4904-85a7-b8cc2ab4d664",
   "metadata": {},
   "outputs": [],
   "source": [
    "def plot_err_phase(N,prob_n,psi):  \n",
    "    prob_range = np.linspace(0,1,num=prob_n)\n",
    "    n_deco = np.zeros(prob_n)\n",
    "    j = 0\n",
    "    for prob in tq.tqdm(prob_range):        \n",
    "        n_deco[j] = simulation_pdamp(N,prob,psi)\n",
    "        j = j + 1\n",
    "    p_Z = (1 - np.sqrt(1 - prob_range)) * 0.5\n",
    "    err_rate = 1-n_deco/N\n",
    "    \n",
    "    plt.figure(dpi=110)\n",
    "    plt.subplot(111)\n",
    "\n",
    "    plt.title('Phase Damping ' + 'vs Logical Error rate ')  \n",
    "    plt.grid()\n",
    "    \n",
    "    plt.xlabel('Probability of Phase Flip - $P_{Z}$')\n",
    "    plt.ylabel('Logical Error rate - $ P_L $')\n",
    "    \n",
    "    plt.yticks(np.linspace(0,np.around(np.max(err_rate), decimals=1),11))\n",
    "    plt.xticks(np.linspace(0,1,11))\n",
    "    \n",
    "    plt.plot(p_Z,err_rate,marker=\"\",c='k',ms='2',label='Error line',lw=.8)\n",
    "    #plt.plot(prob_range,prob_range,ls='--',c='b',label='Straight line ($P_L=p$)',alpha=.5)\n",
    "    \n",
    "    plt.legend(fontsize='x-small')\n",
    "    #plt.savefig(fname='Error plot '+str(N)+'_'+str(prob_n))\n",
    "    return None"
   ]
  },
  {
   "cell_type": "markdown",
   "id": "a9301495-4605-45a1-8590-7cff5ca519c9",
   "metadata": {},
   "source": [
    "# Plotting for the random Z rotations"
   ]
  },
  {
   "cell_type": "code",
   "execution_count": 20,
   "id": "87336622-fea0-4175-9eee-8b3b9b5f120c",
   "metadata": {},
   "outputs": [],
   "source": [
    "def plot_err_rand_zrot(N,sigma_res,psi):  \n",
    "    sigma_range = np.linspace(0,3,num=sigma_res)\n",
    "    n_deco = np.zeros(sigma_res)\n",
    "    j = 0\n",
    "    \n",
    "    for sigma in tq.tqdm(sigma_range):        \n",
    "        n_deco[j] = simulation_rand_zrot(N,sigma,psi)\n",
    "        j = j + 1\n",
    "    \n",
    "    err_rate = 1-n_deco/N\n",
    "    \n",
    "    plt.figure(dpi=110)\n",
    "    plt.subplot(111)\n",
    "\n",
    "    plt.title('Sigma ' + 'vs Logical Error rate ')\n",
    "    plt.grid()\n",
    "    \n",
    "    plt.xlabel(' Sigma $\\sigma$')\n",
    "    plt.ylabel('Logical Error rate - $ P_L $')\n",
    "\n",
    "    plt.yticks(np.linspace(0,np.around(np.max(err_rate), decimals=1),11))\n",
    "    plt.xticks(np.linspace(0,3,11))\n",
    "    \n",
    "    plt.plot(sigma_range,err_rate,marker=\"\",c='k',ms='2',label='Error line',lw=.8)\n",
    "    #plt.plot(sigma_range,sigma_range,ls='--',c='b',label='Straight line ($P_L=p$)',alpha=.5)\n",
    "    \n",
    "    plt.legend(fontsize='x-small')\n",
    "    #plt.savefig(fname='Error plot '+str(N)+'_'+str(sigma_res))\n",
    "    return None"
   ]
  },
  {
   "cell_type": "code",
   "execution_count": 21,
   "id": "bc1dc655-fc81-491c-b12f-aef67a4b0ef2",
   "metadata": {},
   "outputs": [],
   "source": [
    "#plot_err_phase(200,200,psi_plus)"
   ]
  },
  {
   "cell_type": "code",
   "execution_count": 22,
   "id": "646fd61f-c987-4e9e-a436-a5f0ed0a428d",
   "metadata": {},
   "outputs": [],
   "source": [
    "#plot_err_rand_zrot(20,20,psi_plus)"
   ]
  },
  {
   "cell_type": "markdown",
   "id": "60311807-e8a9-48a1-ac37-ea321ea1de89",
   "metadata": {},
   "source": [
    "### Phase damping as random z rotations with angles sampled from a Guassian ($\\mu = 0,\\sigma$) \n",
    "## $ P_Z = \\frac{1-e^{\\sigma^2/2}}{2} $ \n",
    "\n",
    "## or\n",
    "\n",
    "## $ \\sigma = \\sqrt{-2\\log(1-2P_Z)} $"
   ]
  },
  {
   "cell_type": "code",
   "execution_count": 23,
   "id": "aa1a1d88-abe3-4e29-86e9-aa9648af6d59",
   "metadata": {},
   "outputs": [
    {
     "name": "stderr",
     "output_type": "stream",
     "text": [
      "100%|██████████████████████████████████████████████████████████████████████████████████| 50/50 [04:05<00:00,  4.91s/it]\n"
     ]
    }
   ],
   "source": [
    "N = 300\n",
    "res = 50\n",
    "psi = psi_plus\n",
    "prob_range = np.linspace(0.001,.9999,res)\n",
    "p_Z = (1 - np.sqrt(1 - prob_range)) * 0.5\n",
    "sigma_range = np.sqrt(-2 * np.log( 1 - 2*p_Z))\n",
    "\n",
    "n_deco_damp = np.zeros(res)\n",
    "n_deco_rand = np.zeros(res)\n",
    "\n",
    "for sigma,p_pd,j in zip(tq.tqdm(sigma_range),prob_range,range(res)):  \n",
    "    n_deco_rand[j] = simulation_rand_zrot(N,sigma,psi)\n",
    "    n_deco_damp[j] = simulation_pdamp(N,p_pd,psi)\n",
    "\n",
    "err_rate_rand = 1-n_deco_rand/N\n",
    "err_rate_damp = 1-n_deco_damp/N\n",
    "\n",
    "max_val = np.max(np.maximum(err_rate_rand,err_rate_damp))"
   ]
  },
  {
   "cell_type": "code",
   "execution_count": 24,
   "id": "f1487d76-1df8-49ed-842b-130bac5bf572",
   "metadata": {},
   "outputs": [
    {
     "data": {
      "image/png": "[encoded data removed]",
      "text/plain": [
       "<Figure size 720x480 with 1 Axes>"
      ]
     },
     "metadata": {
      "needs_background": "light"
     },
     "output_type": "display_data"
    }
   ],
   "source": [
    "plt.figure(dpi=120)\n",
    "plt.subplot(111)\n",
    "\n",
    "plt.title('Sigma/$P_Z$ ' + 'vs Logical Error rate ')\n",
    "plt.grid()\n",
    "\n",
    "plt.xlabel(' Sigma scaled to $P_Z$')\n",
    "plt.ylabel('Logical Error rate - $ P_L $')\n",
    "\n",
    "plt.yticks(np.linspace(0,max_val,11))\n",
    "plt.xticks(np.linspace(0,.5,11))\n",
    "\n",
    "plt.plot(p_Z,err_rate_damp,marker=\"\",c='r',ms='2',label='Phase damping as phase flips',lw=.8)\n",
    "plt.plot(p_Z,err_rate_rand,marker=\"\",c='b',ms='2',label='Random rotations on the z axis',lw=.8)\n",
    "\n",
    "\n",
    "plt.legend(fontsize='x-small')\n",
    "plt.savefig(fname='P_z scaled to sigma')\n",
    "plt.show()"
   ]
  },
  {
   "cell_type": "code",
   "execution_count": 25,
   "id": "8c71af0f-5c6c-4b5e-9452-7ff3deb3bc4f",
   "metadata": {},
   "outputs": [
    {
     "data": {
      "image/png": "[encoded data removed]",
      "text/plain": [
       "<Figure size 720x480 with 1 Axes>"
      ]
     },
     "metadata": {
      "needs_background": "light"
     },
     "output_type": "display_data"
    }
   ],
   "source": [
    "smooth_damp = InterpolatedUnivariateSpline(p_Z, err_rate_rand)\n",
    "smooth_rand = InterpolatedUnivariateSpline(sigma_range, err_rate_damp)\n",
    "smooth_factor = 15 * 1e-3\n",
    "smooth_damp.set_smoothing_factor(smooth_factor)\n",
    "smooth_rand.set_smoothing_factor(smooth_factor/5)\n",
    "\n",
    "plt.figure(dpi=120)\n",
    "plt.subplot(111)\n",
    "\n",
    "plt.title('Sigma/$P_Z$ ' + 'vs Logical Error rate ')\n",
    "plt.grid()\n",
    "\n",
    "plt.xlabel(' Sigma scaled to $P_Z$')\n",
    "plt.ylabel('Logical Error rate - $ P_L $')\n",
    "\n",
    "plt.yticks(np.linspace(0,max_val,11))\n",
    "plt.xticks(np.linspace(0,.5,11))\n",
    "\n",
    "#plt.plot(p_Z,err_rate_damp,marker=\"\",c='r',ms='2',label='Phase damping as phase flips',lw=.8)\n",
    "#plt.plot(p_Z,err_rate_rand,marker=\"\",c='b',ms='2',label='Random rotations on the z axis',lw=.8)\n",
    "\n",
    "plt.plot(p_Z,smooth_damp(p_Z),marker=\"\",c='r',ms='2',label='Phase damping as phase flips',lw=.8)\n",
    "plt.plot(p_Z,smooth_rand(sigma_range),marker=\"\",c='b',ms='2',label='Random rotations on the z axis',lw=.8)\n",
    "\n",
    "plt.legend(fontsize='x-small')\n",
    "plt.savefig(fname='P_z scaled to sigma - smoothed')\n",
    "plt.show()"
   ]
  }
 ],
 "metadata": {
  "kernelspec": {
   "display_name": "Python 3",
   "language": "python",
   "name": "python3"
  },
  "language_info": {
   "codemirror_mode": {
    "name": "ipython",
    "version": 3
   },
   "file_extension": ".py",
   "mimetype": "text/x-python",
   "name": "python",
   "nbconvert_exporter": "python",
   "pygments_lexer": "ipython3",
   "version": "3.8.10"
  },
  "toc-autonumbering": false,
  "toc-showcode": true,
  "toc-showmarkdowntxt": true,
  "toc-showtags": false
 },
 "nbformat": 4,
 "nbformat_minor": 5
}
