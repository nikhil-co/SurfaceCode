{
 "cells": [
  {
   "cell_type": "markdown",
   "id": "1f0eca23-4808-410d-8c67-478ec6be3fb9",
   "metadata": {},
   "source": [
    "# Implementing a Coherent noise model\n",
    "### - Defined a function for implementing coherent errors\n",
    "### - Other noise models like Symmetric Depolarizing, Asymmetric Depolarizing and Amplitude and Phase    damping\n",
    "### - Correcting mistakes in implementation"
   ]
  },
  {
   "cell_type": "code",
   "execution_count": 1,
   "id": "c4525e1f-1f4c-4dd8-b0ee-cd384f46bc7c",
   "metadata": {},
   "outputs": [],
   "source": [
    "import numpy as np\n",
    "from qutip import *\n",
    "import pymatching as pym\n",
    "\n",
    "import matplotlib.pyplot as plt\n",
    "\n",
    "from timeit import timeit\n",
    "import tqdm as tq"
   ]
  },
  {
   "cell_type": "code",
   "execution_count": 2,
   "id": "c3532980-8c26-44ba-a5e4-37eef53c7611",
   "metadata": {},
   "outputs": [],
   "source": [
    "rng = np.random.default_rng(123) # Construct a new Generator with the default BitGenerator (PCG64). The seed here is '123'"
   ]
  },
  {
   "cell_type": "code",
   "execution_count": 3,
   "id": "cb4dd6a4-0788-4046-a82e-314667f99384",
   "metadata": {},
   "outputs": [],
   "source": [
    "# Function for initializtion of the state\n",
    "def init_qp():\n",
    "    psi1 = tensor(basis(2,0), basis(2,0), basis(2,0), basis(2,0), basis(2,0), basis(2,0), basis(2,0), basis(2,0), basis(2,0))\n",
    "    return psi1\n",
    "\n",
    "# Defining the initial state\n",
    "psi_init = init_qp()"
   ]
  },
  {
   "cell_type": "code",
   "execution_count": 4,
   "id": "e8ed086c-ef80-41a9-9290-366d1e30f842",
   "metadata": {},
   "outputs": [],
   "source": [
    "'''\n",
    "Defining Pauli matrices for a qubits in the surface code \n",
    "- xi = X gate for the ith qubit\n",
    "- zi = Z gate for the ith qubit \n",
    "- We have 9 qubits so the range of i is - i = 0,1,...8\n",
    "'''\n",
    "\n",
    "I_9 = tensor(qeye(2),qeye(2),qeye(2),qeye(2),qeye(2),qeye(2),qeye(2),qeye(2),qeye(2)) # Identity for the 9 qubit system\n",
    "\n",
    "x0 = tensor(sigmax(),qeye(2),qeye(2),qeye(2),qeye(2),qeye(2),qeye(2),qeye(2),qeye(2))\n",
    "x1 = tensor(qeye(2),sigmax(),qeye(2),qeye(2),qeye(2),qeye(2),qeye(2),qeye(2),qeye(2))\n",
    "x2 = tensor(qeye(2),qeye(2),sigmax(),qeye(2),qeye(2),qeye(2),qeye(2),qeye(2),qeye(2))\n",
    "x3 = tensor(qeye(2),qeye(2),qeye(2),sigmax(),qeye(2),qeye(2),qeye(2),qeye(2),qeye(2))\n",
    "x4 = tensor(qeye(2),qeye(2),qeye(2),qeye(2),sigmax(),qeye(2),qeye(2),qeye(2),qeye(2))\n",
    "x5 = tensor(qeye(2),qeye(2),qeye(2),qeye(2),qeye(2),sigmax(),qeye(2),qeye(2),qeye(2))\n",
    "x6 = tensor(qeye(2),qeye(2),qeye(2),qeye(2),qeye(2),qeye(2),sigmax(),qeye(2),qeye(2))\n",
    "x7 = tensor(qeye(2),qeye(2),qeye(2),qeye(2),qeye(2),qeye(2),qeye(2),sigmax(),qeye(2))\n",
    "x8 = tensor(qeye(2),qeye(2),qeye(2),qeye(2),qeye(2),qeye(2),qeye(2),qeye(2),sigmax())\n",
    "\n",
    "z0 = tensor(sigmaz(),qeye(2),qeye(2),qeye(2),qeye(2),qeye(2),qeye(2),qeye(2),qeye(2))\n",
    "z1 = tensor(qeye(2),sigmaz(),qeye(2),qeye(2),qeye(2),qeye(2),qeye(2),qeye(2),qeye(2))\n",
    "z2 = tensor(qeye(2),qeye(2),sigmaz(),qeye(2),qeye(2),qeye(2),qeye(2),qeye(2),qeye(2))\n",
    "z3 = tensor(qeye(2),qeye(2),qeye(2),sigmaz(),qeye(2),qeye(2),qeye(2),qeye(2),qeye(2))\n",
    "z4 = tensor(qeye(2),qeye(2),qeye(2),qeye(2),sigmaz(),qeye(2),qeye(2),qeye(2),qeye(2))\n",
    "z5 = tensor(qeye(2),qeye(2),qeye(2),qeye(2),qeye(2),sigmaz(),qeye(2),qeye(2),qeye(2))\n",
    "z6 = tensor(qeye(2),qeye(2),qeye(2),qeye(2),qeye(2),qeye(2),sigmaz(),qeye(2),qeye(2))\n",
    "z7 = tensor(qeye(2),qeye(2),qeye(2),qeye(2),qeye(2),qeye(2),qeye(2),sigmaz(),qeye(2))\n",
    "z8 = tensor(qeye(2),qeye(2),qeye(2),qeye(2),qeye(2),qeye(2),qeye(2),qeye(2),sigmaz())\n",
    "\n",
    "\n",
    "y0 = tensor(sigmay(),qeye(2),qeye(2),qeye(2),qeye(2),qeye(2),qeye(2),qeye(2),qeye(2))\n",
    "y1 = tensor(qeye(2),sigmay(),qeye(2),qeye(2),qeye(2),qeye(2),qeye(2),qeye(2),qeye(2))\n",
    "y2 = tensor(qeye(2),qeye(2),sigmay(),qeye(2),qeye(2),qeye(2),qeye(2),qeye(2),qeye(2))\n",
    "y3 = tensor(qeye(2),qeye(2),qeye(2),sigmay(),qeye(2),qeye(2),qeye(2),qeye(2),qeye(2))\n",
    "y4 = tensor(qeye(2),qeye(2),qeye(2),qeye(2),sigmay(),qeye(2),qeye(2),qeye(2),qeye(2))\n",
    "y5 = tensor(qeye(2),qeye(2),qeye(2),qeye(2),qeye(2),sigmay(),qeye(2),qeye(2),qeye(2))\n",
    "y6 = tensor(qeye(2),qeye(2),qeye(2),qeye(2),qeye(2),qeye(2),sigmay(),qeye(2),qeye(2))\n",
    "y7 = tensor(qeye(2),qeye(2),qeye(2),qeye(2),qeye(2),qeye(2),qeye(2),sigmay(),qeye(2))\n",
    "y8 = tensor(qeye(2),qeye(2),qeye(2),qeye(2),qeye(2),qeye(2),qeye(2),qeye(2),sigmay())\n",
    "\n",
    "\n",
    "# Defining Hadamard gate for all the nine qubits ( acting simultaneously)\n",
    "\n",
    "h = (sigmax() + sigmaz())/(2**0.5) # Hadamard for a single qubit\n",
    "\n",
    "h1 = tensor(h,qeye(2),qeye(2),qeye(2),qeye(2),qeye(2),qeye(2),qeye(2),qeye(2)) # Hadamard for a single qubit in the surface code\n",
    "\n",
    "H  = tensor(h,h,h,h,h,h,h,h,h) # Hadamard for all qbuits(simultaneously) in the surface code\n",
    "\n",
    "Z = tensor(sigmaz(),sigmaz(),sigmaz(),sigmaz(),sigmaz(),sigmaz(),sigmaz(),sigmaz(),sigmaz())\n",
    "X = tensor(sigmax(),sigmax(),sigmax(),sigmax(),sigmax(),sigmax(),sigmax(),sigmax(),sigmax())\n",
    "\n",
    "Z_set = [z0,z1,z2,z3,z4,z5,z6,z7,z8]\n",
    "X_set = [x0,x1,x2,x3,x4,x5,x6,x7,x8]\n",
    "Y_set = [y0,y1,y2,y3,y4,y5,y6,y7,y8]"
   ]
  },
  {
   "cell_type": "code",
   "execution_count": 5,
   "id": "43d54ef9-73fe-463b-a04d-318a1de9b9d4",
   "metadata": {},
   "outputs": [],
   "source": [
    "# Defning the Stabilizers as si = stabilizer measured by the ith measurement bit (i=9,10,..16)\n",
    "\n",
    "s9  = x1 * x2\n",
    "s10 = z0 * z3\n",
    "s11 = x0 * x1 * x3 * x4\n",
    "s12 = z1 * z2 * z4 * z5\n",
    "s13 = z3 * z4 * z6 * z7\n",
    "s14 = x4 * x5 * x7 * x8\n",
    "s15 = z5 * z8\n",
    "s16 = x6 * x7\n",
    "\n",
    "stab_set = [s9,s10,s11,s12,s13,s14,s15,s16]\n",
    "\n",
    "xstab_set = [0,2,5,7]\n",
    "zstab_set = [1,3,4,6]"
   ]
  },
  {
   "cell_type": "code",
   "execution_count": 6,
   "id": "4a6003ab-48f3-4c7b-b0c2-ba67184f3317",
   "metadata": {},
   "outputs": [],
   "source": [
    "# Defining the sub = projectors -  pi = projector for each stabilizer and i is the measurement qubit\n",
    "# The projector P = p9 x p10 x p11 ... x p16\n",
    "\n",
    "p9  = ( I_9 + s9  )/2\n",
    "p10 = ( I_9 + s10 )/2\n",
    "p11 = ( I_9 + s11 )/2\n",
    "p12 = ( I_9 + s12 )/2\n",
    "p13 = ( I_9 + s13 )/2\n",
    "p14 = ( I_9 + s14 )/2\n",
    "p15 = ( I_9 + s15 )/2\n",
    "p16 = ( I_9 + s16 )/2\n",
    "\n",
    "P  = 8 * p9 * p10 * p11 * p12 * p13 * p14 * p15 * p16\n",
    "\n",
    "Px = 4 * p9 * p11 * p14 * p16\n",
    "Pz = 4 * p10 * p12 * p13 * p15"
   ]
  },
  {
   "cell_type": "code",
   "execution_count": 7,
   "id": "3f080e7c",
   "metadata": {},
   "outputs": [],
   "source": [
    "# Defining Logical Operators\n",
    "\n",
    "XL = x2 * x4 * x6\n",
    "\n",
    "ZL = z0 * z4 * z8"
   ]
  },
  {
   "cell_type": "code",
   "execution_count": 8,
   "id": "bafc2947-336a-4eeb-927f-7578639e13c3",
   "metadata": {},
   "outputs": [],
   "source": [
    "# Quiescent State\n",
    "psi_seed = Px * psi_init\n",
    "\n",
    "psi_plus = np.sqrt(.5)* (ZL + XL) * psi_seed"
   ]
  },
  {
   "cell_type": "markdown",
   "id": "79041f82-4dad-4387-9552-97aed8795cf5",
   "metadata": {},
   "source": [
    "## Defining Projective Measurement"
   ]
  },
  {
   "cell_type": "code",
   "execution_count": 9,
   "id": "54c30b44-c043-487c-a087-c07d6ab55236",
   "metadata": {},
   "outputs": [],
   "source": [
    "def proj_measurement(Gate,psi):\n",
    "    \n",
    "    prob = expect(0.5*(I_9 + Gate),psi)\n",
    "\n",
    "    n = rng.random()\n",
    " \n",
    "    if prob > n:\n",
    "        eigen = 1\n",
    "        psi = (I_9 + Gate) * psi\n",
    "        return eigen , psi.unit()\n",
    "    else:\n",
    "        eigen = -1\n",
    "        psi = (I_9 - Gate) * psi\n",
    "        return eigen , psi.unit()\n",
    "        "
   ]
  },
  {
   "cell_type": "markdown",
   "id": "c59b49f7-b2c2-4c2d-9aed-995076f0e8d4",
   "metadata": {},
   "source": [
    "## Implementing Various Noise Models"
   ]
  },
  {
   "cell_type": "code",
   "execution_count": 10,
   "id": "d01e1bb1-3b97-43be-9b30-972f5b88c39f",
   "metadata": {},
   "outputs": [],
   "source": [
    "def noise_model(state,pr):\n",
    "    p_Z = pr\n",
    "    p_I = 1 - pr\n",
    "    events = [0,1] # 0 - for no error; 1 - phase-flip error \n",
    "    for qubit in range(9):\n",
    "        event = rng.choice(events,p=[p_I,p_Z],size=1)\n",
    "        if 1 in event:\n",
    "            f = 'z' + str(qubit)\n",
    "            state = eval(f) * state\n",
    "           #print('qubit'+str(qubit))\n",
    "\n",
    "    return state"
   ]
  },
  {
   "cell_type": "markdown",
   "id": "a3f51f5b-4869-42fd-982f-7d232717840a",
   "metadata": {},
   "source": [
    "## Implementing Coherent errors"
   ]
  },
  {
   "cell_type": "code",
   "execution_count": 11,
   "id": "c773ab51-c9ee-4d19-8a5f-fa9652b829e8",
   "metadata": {},
   "outputs": [],
   "source": [
    "def coherent_noise(psi,theta):\n",
    "    z = Qobj([[np.exp(1j*theta),0],[0,np.exp(-1j*theta)]])  \n",
    "    exp_z0 = tensor(z,qeye(2),qeye(2),qeye(2),qeye(2),qeye(2),qeye(2),qeye(2),qeye(2))\n",
    "    exp_z1 = tensor(qeye(2),z,qeye(2),qeye(2),qeye(2),qeye(2),qeye(2),qeye(2),qeye(2))\n",
    "    exp_z2 = tensor(qeye(2),qeye(2),z,qeye(2),qeye(2),qeye(2),qeye(2),qeye(2),qeye(2))\n",
    "    exp_z3 = tensor(qeye(2),qeye(2),qeye(2),z,qeye(2),qeye(2),qeye(2),qeye(2),qeye(2))\n",
    "    exp_z4 = tensor(qeye(2),qeye(2),qeye(2),qeye(2),z,qeye(2),qeye(2),qeye(2),qeye(2))\n",
    "    exp_z5 = tensor(qeye(2),qeye(2),qeye(2),qeye(2),qeye(2),z,qeye(2),qeye(2),qeye(2))\n",
    "    exp_z6 = tensor(qeye(2),qeye(2),qeye(2),qeye(2),qeye(2),qeye(2),z,qeye(2),qeye(2))\n",
    "    exp_z7 = tensor(qeye(2),qeye(2),qeye(2),qeye(2),qeye(2),qeye(2),qeye(2),z,qeye(2))\n",
    "    exp_z8 = tensor(qeye(2),qeye(2),qeye(2),qeye(2),qeye(2),qeye(2),qeye(2),qeye(2),z)\n",
    "    Z = exp_z0 * exp_z1 * exp_z2 * exp_z3 * exp_z4 * exp_z5 * exp_z6 * exp_z7 * exp_z8\n",
    "    psi = Z * psi\n",
    "    return psi"
   ]
  },
  {
   "cell_type": "markdown",
   "id": "6f1e15fb-7feb-4944-8128-f7c2f06609a0",
   "metadata": {},
   "source": [
    "## Implementing Symmetric and Asymmetric Depolarizing Channels"
   ]
  },
  {
   "cell_type": "code",
   "execution_count": 12,
   "id": "3becd224-0612-4d17-8e68-76f71e83aa70",
   "metadata": {},
   "outputs": [],
   "source": [
    "def sym_depol(psi,p): \n",
    "    p_X,p_Y,p_Z = p/3,p/3,p/3    \n",
    "    for i in range(9):  \n",
    "        event = rng.choice(['I','X','Y','Z'],p=[1-p,p/3,p/3,p/3])\n",
    "        if event[0] != 'I':\n",
    "            op = event[0] + '_set[i]'\n",
    "            psi =  eval(op) * psi              \n",
    "    return psi.unit()\n",
    "\n",
    "def asym_depol(psi,p_Z,p_X,p_Y):\n",
    "    p_I = 1 - (p_Z+p_X+p_Y)\n",
    "    for i in range(9):  \n",
    "        event = rng.choice(['I','X','Y','Z'],p=[p_I,p_Z,p_X,p_Y])\n",
    "        if event[0] != 'I':\n",
    "            op = event[0] + '_set[i]'\n",
    "            psi =  eval(op) * psi  \n",
    "    return psi.unit()                      "
   ]
  },
  {
   "cell_type": "markdown",
   "id": "6e94977f-1bbe-46df-b889-e92c55972b73",
   "metadata": {},
   "source": [
    "## Defining Syndrome Measurement"
   ]
  },
  {
   "cell_type": "code",
   "execution_count": 14,
   "id": "2df730c2-c223-4b3e-b61f-272cca5ea63e",
   "metadata": {},
   "outputs": [],
   "source": [
    "def syndrome(psi): # Returns the Syndrome - Expectation values of all the stabilizers\n",
    "    syn = []\n",
    "    for stab in stab_set:\n",
    "        syn_val,psi = proj_measurement(stab,psi) \n",
    "        syn.append(syn_val)\n",
    "    return syn,psi\n",
    "def prob_coherent(stabs,psi,syn):\n",
    "    P = 1\n",
    "    for stab,sf in zip(stabs,syn):\n",
    "        P = P * (0.5 * (I_9 + sf * stab))\n",
    "    psi = P * psi\n",
    "    prob = (psi.norm())**2\n",
    "    if prob == 0:\n",
    "        return psi,prob\n",
    "    else:\n",
    "        return psi.unit(),prob\n",
    "    return None"
   ]
  },
  {
   "cell_type": "markdown",
   "id": "eb93804d-5da0-4bfc-9f9b-b3049529fb9e",
   "metadata": {},
   "source": [
    "## Defining Check Matrix for decoding"
   ]
  },
  {
   "cell_type": "code",
   "execution_count": 15,
   "id": "343742f1-4ea5-40b3-bb31-129c9631a620",
   "metadata": {
    "slideshow": {
     "slide_type": "notes"
    },
    "tags": []
   },
   "outputs": [],
   "source": [
    "Hz = np.array([\n",
    "    [1,0,1,0,0,0,0,0,0],\n",
    "    [0,1,1,0,1,1,0,0,0],\n",
    "    [0,0,0,1,1,0,1,1,0],\n",
    "    [0,0,0,0,0,1,0,0,1]])\n",
    "\n",
    "Hx = np.array([\n",
    "    [0,1,1,0,0,0,0,0,0],\n",
    "    [1,1,0,1,1,0,0,0,0],\n",
    "    [0,0,0,0,1,1,0,1,1],\n",
    "    [0,0,0,0,0,0,1,1,0]])\n",
    "\n",
    "mz = pym.Matching(Hz);\n",
    "mx = pym.Matching(Hx);"
   ]
  },
  {
   "cell_type": "markdown",
   "id": "d02aae02-aede-486c-921e-092f4dadcd00",
   "metadata": {},
   "source": [
    "## Simulation for phase-flip errors with probability - p"
   ]
  },
  {
   "cell_type": "code",
   "execution_count": 16,
   "id": "9505e779-6d9d-4386-aca6-68b95ec009f4",
   "metadata": {},
   "outputs": [],
   "source": [
    "# Defining Simulation function - runs the noise model n times with prob of error p.\n",
    "def simulation(n,p,psi):\n",
    "    decoded_states = 0\n",
    "    for i in range(n):\n",
    "        psi = psi.unit()\n",
    "        psi = noise_model(psi,p)\n",
    "        synd , psi = syndrome(psi)      \n",
    "        syn = np.zeros(4)\n",
    "\n",
    "        l = 0\n",
    "        for j in xstab_set: \n",
    "            syn[l] = synd[j]\n",
    "            l = l+1\n",
    "        corc = mx.decode((syn-1)/-2)\n",
    "        for k in range(9):\n",
    "            if corc[k]==1:\n",
    "                psi = eval('z' + str(k)) * psi\n",
    "        eigen,psi = proj_measurement(XL,psi)\n",
    "        if eigen==1:\n",
    "            decoded_states = decoded_states + 1\n",
    "        else:\n",
    "            psi = ZL * psi\n",
    "    return decoded_states"
   ]
  },
  {
   "cell_type": "markdown",
   "id": "a7785bf6-5626-4e71-909d-95580f6e30c8",
   "metadata": {},
   "source": [
    "## Simulation for Coherent Noise"
   ]
  },
  {
   "cell_type": "code",
   "execution_count": 17,
   "id": "8b945bdc",
   "metadata": {},
   "outputs": [],
   "source": [
    "pos_syn = [[1,1,1,1],[-1,1,1,1],[1,-1,1,1],[1,1,-1,1],[1,1,1,-1],\n",
    "        [-1,-1,1,1],[-1,1,-1,1],[-1,1,1,-1],[1,-1,-1,1],[1,-1,1,-1],[1,1,-1,-1],\n",
    "        [-1,-1,-1,1],[-1,-1,1,-1],[-1,1,-1,-1],[1,-1,-1,-1],\n",
    "        [-1,-1,-1,-1]]"
   ]
  },
  {
   "cell_type": "code",
   "execution_count": 18,
   "id": "51961d24-1aa6-40b1-89bc-3d9291b94fee",
   "metadata": {},
   "outputs": [],
   "source": [
    "def simulation_coherent(psi,theta):\n",
    "    rot_psi = coherent_noise(psi,theta)\n",
    "    fid = 0\n",
    "    p_s = np.zeros(16)\n",
    "    norm = np.zeros(16)\n",
    "    for i in range(16):\n",
    "        a0=i//8%2\n",
    "        a1=i//4%2\n",
    "        a2=i//2%2\n",
    "        a3=i%2      \n",
    "        syn_x = np.array([a0,a1,a2,a3])*(-2) + 1\n",
    "        psi,p_s[i]= prob_coherent([s9,s11,s14,s16],rot_psi,syn_x)\n",
    "        corc = mx.decode(np.array([a0,a1,a2,a3]))\n",
    "        for k in range(9):\n",
    "            if corc[k]==1:\n",
    "                psi = Z_set[k] * psi                         \n",
    "        normi = (psi.dag() * psi_plus).full()[0][0]\n",
    "        norm[i] = np.abs(normi)**2\n",
    "        fid = fid + p_s[i] * norm[i]\n",
    "    return 1-fid"
   ]
  },
  {
   "cell_type": "code",
   "execution_count": 19,
   "id": "b5013dd8-0509-468c-8e6e-20393cba4d7d",
   "metadata": {},
   "outputs": [
    {
     "data": {
      "image/png": "[encoded data removed]",
      "text/plain": [
       "<Figure size 720x480 with 1 Axes>"
      ]
     },
     "metadata": {
      "needs_background": "light"
     },
     "output_type": "display_data"
    }
   ],
   "source": [
    "P_l = np.zeros(50)\n",
    "res = np.linspace(0,np.pi/2,50)\n",
    "for i in range(50):\n",
    "    P_l[i] = simulation_coherent(psi_plus,res[i])\n",
    "\n",
    "plt.figure(dpi=120)\n",
    "plt.plot(np.sin(res)**2,P_l)\n",
    "plt.yticks(np.linspace(0,1,11))\n",
    "plt.xticks(np.linspace(0,1,11))\n",
    "\n",
    "plt.title('Coherent Rotations')\n",
    "\n",
    "plt.grid()\n",
    "\n",
    "plt.xlabel('$ p = sin^2{\\Theta} $')\n",
    "plt.ylabel('1 - fidelity')\n",
    "\n",
    "plt.show()"
   ]
  },
  {
   "cell_type": "markdown",
   "id": "4112ade8-06ac-4ac8-88cf-673731f0cfbf",
   "metadata": {},
   "source": [
    "## Simulation for Symmetric and Asymmetric depolarization channel"
   ]
  },
  {
   "cell_type": "code",
   "execution_count": 20,
   "id": "cbded4f3-9feb-42c5-a8d8-ac15fbe3cec1",
   "metadata": {},
   "outputs": [],
   "source": [
    "def simulation_symmdepol(n,p,psi):\n",
    "    decoded_states = 0\n",
    "    for i in range(n):\n",
    "        psi = sym_depol(psi,p)\n",
    "        synd , psi = syndrome(psi)     \n",
    "\n",
    "        syn_z = np.zeros(4)\n",
    "        syn_x = np.zeros(4)\n",
    "\n",
    "        l = 0\n",
    "        for j in xstab_set: \n",
    "            syn_z[l] = synd[j]\n",
    "            l = l+1\n",
    "        \n",
    "        a = 0\n",
    "        for m in zstab_set:\n",
    "            syn_z[a] = synd[m]\n",
    "            a = a+1\n",
    "        corc_z = mx.decode((syn_z-1)/-2)\n",
    "        for k in range(9):\n",
    "            if corc_z[k]==1:\n",
    "                psi = Z[i] * psi\n",
    "        \n",
    "        corc_x = mz.decode((syn_x-1)/-2)\n",
    "        for k in range(9):\n",
    "            if corc_x[k]==1:\n",
    "                psi = X_set[i] * psi\n",
    "\n",
    "        eigen,psi = proj_measurement(XL,psi)\n",
    "        \n",
    "        if eigen==1:\n",
    "            decoded_states = decoded_states + 1\n",
    "        else:\n",
    "            psi = ZL * psi\n",
    "\n",
    "    return decoded_states"
   ]
  },
  {
   "cell_type": "markdown",
   "id": "84fb07e5-b7b5-403e-a2f7-4a3ee93d76a8",
   "metadata": {},
   "source": [
    "## Simulation for Amplitude and Phase Damping Channel"
   ]
  },
  {
   "cell_type": "code",
   "execution_count": 21,
   "id": "63f97a9c-86ad-4582-96f4-6fbb0dc3be1a",
   "metadata": {},
   "outputs": [],
   "source": [
    "def simulation_apdamp(n,p_AD,p_PD,psi):\n",
    "    decoded_states = 0\n",
    "\n",
    "    for i in range(n):\n",
    "        psi = APD(psi,p_AD,p_PD)\n",
    "        synd , psi = syndrome(psi)     \n",
    "\n",
    "        syn_z = np.zeros(4)\n",
    "        syn_x = np.zeros(4)\n",
    "\n",
    "        l = 0\n",
    "        for j in xstab_set: \n",
    "            syn_z[l] = synd[j]\n",
    "            l = l+1\n",
    "        \n",
    "        a = 0\n",
    "        for m in zstab_set:\n",
    "            syn_z[a] = synd[m]\n",
    "            a = a+1\n",
    "        corc_z = mx.decode((syn_z-1)/-2)\n",
    "        for k in range(9):\n",
    "            if corc_z[k]==1:\n",
    "                psi = Z[i] * psi\n",
    "        \n",
    "        corc_x = mz.decode((syn_x-1)/-2)\n",
    "        for k in range(9):\n",
    "            if corc_x[k]==1:\n",
    "                psi = X[i] * psi\n",
    "\n",
    "        eigen,psi = proj_measurement(XL,psi)\n",
    "\n",
    "        if eigen==1:\n",
    "            decoded_states = decoded_states + 1\n",
    "        else:\n",
    "            psi = ZL * psi\n",
    "\n",
    "    return decoded_states"
   ]
  },
  {
   "cell_type": "code",
   "execution_count": 22,
   "id": "d1a85562-0d7d-4cef-a2ff-f6939d725abb",
   "metadata": {},
   "outputs": [
    {
     "data": {
      "text/plain": [
       "99"
      ]
     },
     "execution_count": 22,
     "metadata": {},
     "output_type": "execute_result"
    }
   ],
   "source": [
    "simulation_apdamp(100,0,0,psi_seed)"
   ]
  },
  {
   "cell_type": "markdown",
   "id": "6a5fa1f4-294a-4274-ae48-9401095fe2f2",
   "metadata": {},
   "source": [
    "## Plotting graph for uncorellated noise model"
   ]
  },
  {
   "cell_type": "code",
   "execution_count": 23,
   "id": "b8242e94-af4d-4d43-9d00-4da9e4254b76",
   "metadata": {},
   "outputs": [],
   "source": [
    "def plot_err(N,prob_n,psi_seed):  \n",
    "    prob_range = np.linspace(0,1,num=prob_n)\n",
    "    n_deco = np.zeros(prob_n)\n",
    "    j = 0\n",
    "    for i in tq.tqdm(range(len(prob_range))):        \n",
    "        n_deco[j] = simulation(N,prob_range[i],psi_seed)\n",
    "        j = j + 1\n",
    "    \n",
    "    err_rate = 1-n_deco/N\n",
    "    \n",
    "    plt.figure(dpi=110)\n",
    "    plt.subplot(111)\n",
    "\n",
    "    #plt.yscale('logit')\n",
    "\n",
    "    plt.title('Probability of Error (' +str(prob_n) +'prob res ) ' + 'vs Logical Error rate ('+str(N)+ ' samples)')\n",
    "    \n",
    "    plt.grid()\n",
    "    \n",
    "    \n",
    "    plt.xlabel('Probability of Error - $p$')\n",
    "    plt.ylabel('Logical Error rate - $ P_L $')\n",
    "    \n",
    "    plt.plot(prob_range,err_rate,marker=\"\",c='k',ms='2',label='Error line',lw=.8)\n",
    "    plt.plot(prob_range,prob_range,ls='--',c='b',label='Straight line ($P_L=p$)',alpha=.5)\n",
    "    \n",
    "    plt.legend(fontsize='x-small')\n",
    "    #plt.savefig(fname='Error plot '+str(N)+'_'+str(prob_n))\n",
    "\n",
    "    return None"
   ]
  },
  {
   "cell_type": "code",
   "execution_count": 24,
   "id": "f089066e-c0f3-4831-987a-142623195082",
   "metadata": {},
   "outputs": [],
   "source": [
    "# Plotting for coherent errors\n",
    "def plot_err_cohe(N,psi):\n",
    "    res = 50\n",
    "    theta_range = np.linspace(0,1,num=res)\n",
    "    n_deco = np.zeros(res)\n",
    "        \n",
    "    fidelity = None\n",
    "    #for i in tq.tqdm(range(res)):        \n",
    "    #   n_deco[i] = simulation_coherent(N,psi_seed,theta_range[i])\n",
    "    \n",
    "\n",
    "    prob_range = np.linspace(0,1,num=res)\n",
    "    n_deco = np.zeros(res)\n",
    "    j = 0\n",
    "    for i in tq.tqdm(range(len(prob_range))):        \n",
    "        n_deco[j] = simulation(N,prob_range[i],psi_seed)\n",
    "        j = j + 1\n",
    "    \n",
    "    err_rate = 1-n_deco/N\n",
    "    P_l = np.zeros(50)\n",
    "    res = np.linspace(0,np.pi/2,50)\n",
    "    for i in range(50):\n",
    "        P_l[i] = simulation_coherent(psi_plus,res[i])\n",
    "\n",
    "\n",
    "\n",
    "    #plt.yscale('logit')\n",
    "    plt.figure(dpi=120)\n",
    "    plt.title('Probability of Error ' + 'vs Logical Error rate')\n",
    "    plt.grid()\n",
    "    \n",
    "    \n",
    "    plt.yticks(np.linspace(0,1,11))\n",
    "    plt.xticks(np.linspace(0,1,11))\n",
    "    \n",
    "    \n",
    "    plt.xlabel('Probability of Error - $p$')\n",
    "    plt.ylabel('Logical Error rate - $ P_L $')\n",
    "    \n",
    "    plt.plot(np.sin(res)**2,P_l)\n",
    "    plt.plot(prob_range,err_rate,marker=\"\",c='k',ms='2',label='Error line',lw=.8)\n",
    "    plt.plot(prob_range,prob_range,ls='--',c='b',label='Straight line ($P_L=p$)',alpha=.5)\n",
    "    \n",
    "    plt.legend(fontsize='x-small')\n",
    "    plt.show()"
   ]
  },
  {
   "cell_type": "code",
   "execution_count": 25,
   "id": "c587f068-0be0-4904-85a7-b8cc2ab4d664",
   "metadata": {},
   "outputs": [],
   "source": [
    "#plot_err_cohe(512,psi_seed)"
   ]
  },
  {
   "cell_type": "code",
   "execution_count": 26,
   "id": "d11a13c3-6774-4af4-a56b-8e23cd255b8a",
   "metadata": {},
   "outputs": [],
   "source": [
    "# Timeing the code\n",
    "#timeit(lambda: plot_err(20,40,psi_seed), number=1)"
   ]
  },
  {
   "cell_type": "code",
   "execution_count": null,
   "id": "da1bab66",
   "metadata": {},
   "outputs": [],
   "source": []
  },
  {
   "cell_type": "code",
   "execution_count": null,
   "id": "58b2014d-eba6-4d73-a69a-19cfcf3ae534",
   "metadata": {},
   "outputs": [],
   "source": []
  }
 ],
 "metadata": {
  "kernelspec": {
   "display_name": "Python 3",
   "language": "python",
   "name": "python3"
  },
  "language_info": {
   "codemirror_mode": {
    "name": "ipython",
    "version": 3
   },
   "file_extension": ".py",
   "mimetype": "text/x-python",
   "name": "python",
   "nbconvert_exporter": "python",
   "pygments_lexer": "ipython3",
   "version": "3.8.10"
  },
  "toc-autonumbering": false,
  "toc-showcode": true,
  "toc-showmarkdowntxt": false,
  "toc-showtags": false
 },
 "nbformat": 4,
 "nbformat_minor": 5
}
